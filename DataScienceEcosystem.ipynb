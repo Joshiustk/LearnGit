{
 "cells": [
  {
   "cell_type": "markdown",
   "id": "2e0d2784-38b4-460c-aaf9-6643553109e2",
   "metadata": {},
   "source": [
    "# Data Science Tools and Ecosystem"
   ]
  },
  {
   "cell_type": "markdown",
   "id": "e59dfeea-b67b-4494-bc66-35be56972cdc",
   "metadata": {},
   "source": [
    "In this notebook, Data Science Tools and Ecosystem are summarized."
   ]
  },
  {
   "cell_type": "markdown",
   "id": "270fac2f-8ded-4acb-a665-cf10f8f01460",
   "metadata": {},
   "source": [
    "Some of the popular languages that Data Scientists use are:\n",
    "1. Python\n",
    "2. R\n",
    "3. Scala"
   ]
  },
  {
   "cell_type": "markdown",
   "id": "7ebb401e-ee5f-4b77-956c-8670b2e16029",
   "metadata": {},
   "source": [
    "Some of the commonly used libraries used by Data Scientists include:\n",
    "1. matplotlib\n",
    "2. pandas\n",
    "3. NumPy"
   ]
  },
  {
   "cell_type": "markdown",
   "id": "5d51f8af-227a-402b-bb66-22e50db55739",
   "metadata": {},
   "source": [
    "|Data Science Tools|\n",
    "|------------------|\n",
    "|Anaconda|\n",
    "|RStudio|\n",
    "|MSVSCode|\n"
   ]
  },
  {
   "cell_type": "markdown",
   "id": "6428ee41-219a-4d56-b4d9-351851038ec4",
   "metadata": {},
   "source": [
    "### Below are a few examples of evaluating arithmetic expressions in Python"
   ]
  },
  {
   "cell_type": "code",
   "execution_count": 3,
   "id": "072ada87-73c4-4c37-8042-cb56d545f310",
   "metadata": {},
   "outputs": [
    {
     "data": {
      "text/plain": [
       "17"
      ]
     },
     "execution_count": 3,
     "metadata": {},
     "output_type": "execute_result"
    }
   ],
   "source": [
    "# This a simple arithmetic expression to mutiply then add integers\n",
    "(3*4)+5"
   ]
  },
  {
   "cell_type": "code",
   "execution_count": 4,
   "id": "ef84922c-1d92-4225-a1e3-401db649b8de",
   "metadata": {},
   "outputs": [
    {
     "data": {
      "text/plain": [
       "3.3333333333333335"
      ]
     },
     "execution_count": 4,
     "metadata": {},
     "output_type": "execute_result"
    }
   ],
   "source": [
    "# This will convert 200 minutes to hours by diving by 60\n",
    "(200/60)"
   ]
  },
  {
   "cell_type": "markdown",
   "id": "3bf0f556-18a1-47ef-97db-4ec41295caf5",
   "metadata": {},
   "source": [
    "# Objectives:\n",
    "- List popular tools for Data Science\n",
    "- Provide overview of the field of Data Science\n",
    "- List the Languages for Data Science\n"
   ]
  },
  {
   "cell_type": "markdown",
   "id": "3101264a-125a-407a-ae6c-979528b71f0e",
   "metadata": {},
   "source": [
    "## Author\n",
    "Biju"
   ]
  },
  {
   "cell_type": "markdown",
   "id": "670fcc25-0ee4-4b75-a991-6af25d42d8b8",
   "metadata": {},
   "source": []
  }
 ],
 "metadata": {
  "kernelspec": {
   "display_name": "Python 3 (ipykernel)",
   "language": "python",
   "name": "python3"
  },
  "language_info": {
   "codemirror_mode": {
    "name": "ipython",
    "version": 3
   },
   "file_extension": ".py",
   "mimetype": "text/x-python",
   "name": "python",
   "nbconvert_exporter": "python",
   "pygments_lexer": "ipython3",
   "version": "3.12.7"
  }
 },
 "nbformat": 4,
 "nbformat_minor": 5
}
